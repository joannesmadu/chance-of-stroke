{
 "cells": [
  {
   "cell_type": "code",
   "execution_count": 1,
   "id": "333ddd41",
   "metadata": {
    "_cell_guid": "b1076dfc-b9ad-4769-8c92-a6c4dae69d19",
    "_uuid": "8f2839f25d086af736a60e9eeb907d3b93b6e0e5",
    "execution": {
     "iopub.execute_input": "2023-09-04T18:20:17.956416Z",
     "iopub.status.busy": "2023-09-04T18:20:17.956016Z",
     "iopub.status.idle": "2023-09-04T18:20:18.378783Z",
     "shell.execute_reply": "2023-09-04T18:20:18.377537Z"
    },
    "papermill": {
     "duration": 0.434349,
     "end_time": "2023-09-04T18:20:18.381387",
     "exception": false,
     "start_time": "2023-09-04T18:20:17.947038",
     "status": "completed"
    },
    "tags": []
   },
   "outputs": [
    {
     "name": "stdout",
     "output_type": "stream",
     "text": [
      "/kaggle/input/stroke-prediction-dataset/healthcare-dataset-stroke-data.csv\n"
     ]
    }
   ],
   "source": [
    "# This Python 3 environment comes with many helpful analytics libraries installed\n",
    "# It is defined by the kaggle/python Docker image: https://github.com/kaggle/docker-python\n",
    "# For example, here's several helpful packages to load\n",
    "\n",
    "import numpy as np # linear algebra\n",
    "import pandas as pd # data processing, CSV file I/O (e.g. pd.read_csv)\n",
    "\n",
    "# Input data files are available in the read-only \"../input/\" directory\n",
    "# For example, running this (by clicking run or pressing Shift+Enter) will list all files under the input directory\n",
    "\n",
    "import os\n",
    "for dirname, _, filenames in os.walk('/kaggle/input'):\n",
    "    for filename in filenames:\n",
    "        print(os.path.join(dirname, filename))\n",
    "\n",
    "# You can write up to 20GB to the current directory (/kaggle/working/) that gets preserved as output when you create a version using \"Save & Run All\" \n",
    "# You can also write temporary files to /kaggle/temp/, but they won't be saved outside of the current session"
   ]
  },
  {
   "cell_type": "code",
   "execution_count": 2,
   "id": "deb253d8",
   "metadata": {
    "execution": {
     "iopub.execute_input": "2023-09-04T18:20:18.397133Z",
     "iopub.status.busy": "2023-09-04T18:20:18.396638Z",
     "iopub.status.idle": "2023-09-04T18:20:18.429493Z",
     "shell.execute_reply": "2023-09-04T18:20:18.428235Z"
    },
    "papermill": {
     "duration": 0.044254,
     "end_time": "2023-09-04T18:20:18.432478",
     "exception": false,
     "start_time": "2023-09-04T18:20:18.388224",
     "status": "completed"
    },
    "tags": []
   },
   "outputs": [],
   "source": [
    "#import dataset\n",
    "data = pd.read_csv(\"/kaggle/input/stroke-prediction-dataset/healthcare-dataset-stroke-data.csv\")"
   ]
  },
  {
   "cell_type": "code",
   "execution_count": 3,
   "id": "1cb13f62",
   "metadata": {
    "execution": {
     "iopub.execute_input": "2023-09-04T18:20:18.449020Z",
     "iopub.status.busy": "2023-09-04T18:20:18.447687Z",
     "iopub.status.idle": "2023-09-04T18:20:18.480495Z",
     "shell.execute_reply": "2023-09-04T18:20:18.479160Z"
    },
    "papermill": {
     "duration": 0.0438,
     "end_time": "2023-09-04T18:20:18.483238",
     "exception": false,
     "start_time": "2023-09-04T18:20:18.439438",
     "status": "completed"
    },
    "tags": []
   },
   "outputs": [
    {
     "data": {
      "text/html": [
       "<div>\n",
       "<style scoped>\n",
       "    .dataframe tbody tr th:only-of-type {\n",
       "        vertical-align: middle;\n",
       "    }\n",
       "\n",
       "    .dataframe tbody tr th {\n",
       "        vertical-align: top;\n",
       "    }\n",
       "\n",
       "    .dataframe thead th {\n",
       "        text-align: right;\n",
       "    }\n",
       "</style>\n",
       "<table border=\"1\" class=\"dataframe\">\n",
       "  <thead>\n",
       "    <tr style=\"text-align: right;\">\n",
       "      <th></th>\n",
       "      <th>id</th>\n",
       "      <th>gender</th>\n",
       "      <th>age</th>\n",
       "      <th>hypertension</th>\n",
       "      <th>heart_disease</th>\n",
       "      <th>ever_married</th>\n",
       "      <th>work_type</th>\n",
       "      <th>Residence_type</th>\n",
       "      <th>avg_glucose_level</th>\n",
       "      <th>bmi</th>\n",
       "      <th>smoking_status</th>\n",
       "      <th>stroke</th>\n",
       "    </tr>\n",
       "  </thead>\n",
       "  <tbody>\n",
       "    <tr>\n",
       "      <th>0</th>\n",
       "      <td>9046</td>\n",
       "      <td>Male</td>\n",
       "      <td>67.0</td>\n",
       "      <td>0</td>\n",
       "      <td>1</td>\n",
       "      <td>Yes</td>\n",
       "      <td>Private</td>\n",
       "      <td>Urban</td>\n",
       "      <td>228.69</td>\n",
       "      <td>36.6</td>\n",
       "      <td>formerly smoked</td>\n",
       "      <td>1</td>\n",
       "    </tr>\n",
       "    <tr>\n",
       "      <th>1</th>\n",
       "      <td>51676</td>\n",
       "      <td>Female</td>\n",
       "      <td>61.0</td>\n",
       "      <td>0</td>\n",
       "      <td>0</td>\n",
       "      <td>Yes</td>\n",
       "      <td>Self-employed</td>\n",
       "      <td>Rural</td>\n",
       "      <td>202.21</td>\n",
       "      <td>NaN</td>\n",
       "      <td>never smoked</td>\n",
       "      <td>1</td>\n",
       "    </tr>\n",
       "    <tr>\n",
       "      <th>2</th>\n",
       "      <td>31112</td>\n",
       "      <td>Male</td>\n",
       "      <td>80.0</td>\n",
       "      <td>0</td>\n",
       "      <td>1</td>\n",
       "      <td>Yes</td>\n",
       "      <td>Private</td>\n",
       "      <td>Rural</td>\n",
       "      <td>105.92</td>\n",
       "      <td>32.5</td>\n",
       "      <td>never smoked</td>\n",
       "      <td>1</td>\n",
       "    </tr>\n",
       "    <tr>\n",
       "      <th>3</th>\n",
       "      <td>60182</td>\n",
       "      <td>Female</td>\n",
       "      <td>49.0</td>\n",
       "      <td>0</td>\n",
       "      <td>0</td>\n",
       "      <td>Yes</td>\n",
       "      <td>Private</td>\n",
       "      <td>Urban</td>\n",
       "      <td>171.23</td>\n",
       "      <td>34.4</td>\n",
       "      <td>smokes</td>\n",
       "      <td>1</td>\n",
       "    </tr>\n",
       "    <tr>\n",
       "      <th>4</th>\n",
       "      <td>1665</td>\n",
       "      <td>Female</td>\n",
       "      <td>79.0</td>\n",
       "      <td>1</td>\n",
       "      <td>0</td>\n",
       "      <td>Yes</td>\n",
       "      <td>Self-employed</td>\n",
       "      <td>Rural</td>\n",
       "      <td>174.12</td>\n",
       "      <td>24.0</td>\n",
       "      <td>never smoked</td>\n",
       "      <td>1</td>\n",
       "    </tr>\n",
       "  </tbody>\n",
       "</table>\n",
       "</div>"
      ],
      "text/plain": [
       "      id  gender   age  hypertension  heart_disease ever_married  \\\n",
       "0   9046    Male  67.0             0              1          Yes   \n",
       "1  51676  Female  61.0             0              0          Yes   \n",
       "2  31112    Male  80.0             0              1          Yes   \n",
       "3  60182  Female  49.0             0              0          Yes   \n",
       "4   1665  Female  79.0             1              0          Yes   \n",
       "\n",
       "       work_type Residence_type  avg_glucose_level   bmi   smoking_status  \\\n",
       "0        Private          Urban             228.69  36.6  formerly smoked   \n",
       "1  Self-employed          Rural             202.21   NaN     never smoked   \n",
       "2        Private          Rural             105.92  32.5     never smoked   \n",
       "3        Private          Urban             171.23  34.4           smokes   \n",
       "4  Self-employed          Rural             174.12  24.0     never smoked   \n",
       "\n",
       "   stroke  \n",
       "0       1  \n",
       "1       1  \n",
       "2       1  \n",
       "3       1  \n",
       "4       1  "
      ]
     },
     "execution_count": 3,
     "metadata": {},
     "output_type": "execute_result"
    }
   ],
   "source": [
    "data.head()"
   ]
  },
  {
   "cell_type": "code",
   "execution_count": 4,
   "id": "cdf917a0",
   "metadata": {
    "execution": {
     "iopub.execute_input": "2023-09-04T18:20:18.499846Z",
     "iopub.status.busy": "2023-09-04T18:20:18.499440Z",
     "iopub.status.idle": "2023-09-04T18:20:18.514987Z",
     "shell.execute_reply": "2023-09-04T18:20:18.513874Z"
    },
    "papermill": {
     "duration": 0.026738,
     "end_time": "2023-09-04T18:20:18.517265",
     "exception": false,
     "start_time": "2023-09-04T18:20:18.490527",
     "status": "completed"
    },
    "tags": []
   },
   "outputs": [],
   "source": [
    "#declare X and y\n",
    "X = data.drop(columns='stroke')\n",
    "y = data['stroke']"
   ]
  },
  {
   "cell_type": "code",
   "execution_count": 5,
   "id": "9e0b6ab4",
   "metadata": {
    "execution": {
     "iopub.execute_input": "2023-09-04T18:20:18.532993Z",
     "iopub.status.busy": "2023-09-04T18:20:18.532573Z",
     "iopub.status.idle": "2023-09-04T18:20:18.551234Z",
     "shell.execute_reply": "2023-09-04T18:20:18.550129Z"
    },
    "papermill": {
     "duration": 0.029337,
     "end_time": "2023-09-04T18:20:18.553622",
     "exception": false,
     "start_time": "2023-09-04T18:20:18.524285",
     "status": "completed"
    },
    "tags": []
   },
   "outputs": [
    {
     "data": {
      "text/plain": [
       "0"
      ]
     },
     "execution_count": 5,
     "metadata": {},
     "output_type": "execute_result"
    }
   ],
   "source": [
    "data.duplicated().sum()"
   ]
  },
  {
   "cell_type": "markdown",
   "id": "6502e40b",
   "metadata": {
    "papermill": {
     "duration": 0.007165,
     "end_time": "2023-09-04T18:20:18.568058",
     "exception": false,
     "start_time": "2023-09-04T18:20:18.560893",
     "status": "completed"
    },
    "tags": []
   },
   "source": [
    "no duplicates, good"
   ]
  },
  {
   "cell_type": "code",
   "execution_count": 6,
   "id": "92bbe054",
   "metadata": {
    "execution": {
     "iopub.execute_input": "2023-09-04T18:20:18.584647Z",
     "iopub.status.busy": "2023-09-04T18:20:18.583819Z",
     "iopub.status.idle": "2023-09-04T18:20:18.598294Z",
     "shell.execute_reply": "2023-09-04T18:20:18.597078Z"
    },
    "papermill": {
     "duration": 0.025597,
     "end_time": "2023-09-04T18:20:18.600774",
     "exception": false,
     "start_time": "2023-09-04T18:20:18.575177",
     "status": "completed"
    },
    "tags": []
   },
   "outputs": [
    {
     "data": {
      "text/plain": [
       "bmi                  201\n",
       "id                     0\n",
       "gender                 0\n",
       "age                    0\n",
       "hypertension           0\n",
       "heart_disease          0\n",
       "ever_married           0\n",
       "work_type              0\n",
       "Residence_type         0\n",
       "avg_glucose_level      0\n",
       "smoking_status         0\n",
       "stroke                 0\n",
       "dtype: int64"
      ]
     },
     "execution_count": 6,
     "metadata": {},
     "output_type": "execute_result"
    }
   ],
   "source": [
    "data.isnull().sum().sort_values(ascending=False)"
   ]
  },
  {
   "cell_type": "code",
   "execution_count": 7,
   "id": "ad860b35",
   "metadata": {
    "execution": {
     "iopub.execute_input": "2023-09-04T18:20:18.617666Z",
     "iopub.status.busy": "2023-09-04T18:20:18.617287Z",
     "iopub.status.idle": "2023-09-04T18:20:18.629930Z",
     "shell.execute_reply": "2023-09-04T18:20:18.628835Z"
    },
    "papermill": {
     "duration": 0.024155,
     "end_time": "2023-09-04T18:20:18.632290",
     "exception": false,
     "start_time": "2023-09-04T18:20:18.608135",
     "status": "completed"
    },
    "tags": []
   },
   "outputs": [
    {
     "data": {
      "text/plain": [
       "bmi                  0.039335\n",
       "id                   0.000000\n",
       "gender               0.000000\n",
       "age                  0.000000\n",
       "hypertension         0.000000\n",
       "heart_disease        0.000000\n",
       "ever_married         0.000000\n",
       "work_type            0.000000\n",
       "Residence_type       0.000000\n",
       "avg_glucose_level    0.000000\n",
       "smoking_status       0.000000\n",
       "stroke               0.000000\n",
       "dtype: float64"
      ]
     },
     "execution_count": 7,
     "metadata": {},
     "output_type": "execute_result"
    }
   ],
   "source": [
    "data.isnull().sum().sort_values(ascending=False)/len(data)"
   ]
  },
  {
   "cell_type": "markdown",
   "id": "d2ce6f2e",
   "metadata": {
    "papermill": {
     "duration": 0.007437,
     "end_time": "2023-09-04T18:20:18.647255",
     "exception": false,
     "start_time": "2023-09-04T18:20:18.639818",
     "status": "completed"
    },
    "tags": []
   },
   "source": [
    "NaNs are only 3% of data, this is fine. bmi being NaN means data was not retrieved for random patient listed."
   ]
  },
  {
   "cell_type": "code",
   "execution_count": 8,
   "id": "55853dfc",
   "metadata": {
    "execution": {
     "iopub.execute_input": "2023-09-04T18:20:18.663644Z",
     "iopub.status.busy": "2023-09-04T18:20:18.663279Z",
     "iopub.status.idle": "2023-09-04T18:20:19.938489Z",
     "shell.execute_reply": "2023-09-04T18:20:19.937401Z"
    },
    "papermill": {
     "duration": 1.28678,
     "end_time": "2023-09-04T18:20:19.941233",
     "exception": false,
     "start_time": "2023-09-04T18:20:18.654453",
     "status": "completed"
    },
    "tags": []
   },
   "outputs": [],
   "source": [
    "from sklearn.model_selection import train_test_split\n",
    "\n",
    "X_train, X_test, y_train, y_test = train_test_split(X, y, test_size = 0.30)"
   ]
  },
  {
   "cell_type": "code",
   "execution_count": 9,
   "id": "7fc7bc8f",
   "metadata": {
    "execution": {
     "iopub.execute_input": "2023-09-04T18:20:19.958584Z",
     "iopub.status.busy": "2023-09-04T18:20:19.958190Z",
     "iopub.status.idle": "2023-09-04T18:20:19.988023Z",
     "shell.execute_reply": "2023-09-04T18:20:19.986870Z"
    },
    "papermill": {
     "duration": 0.041765,
     "end_time": "2023-09-04T18:20:19.990680",
     "exception": false,
     "start_time": "2023-09-04T18:20:19.948915",
     "status": "completed"
    },
    "tags": []
   },
   "outputs": [
    {
     "data": {
      "text/html": [
       "<div>\n",
       "<style scoped>\n",
       "    .dataframe tbody tr th:only-of-type {\n",
       "        vertical-align: middle;\n",
       "    }\n",
       "\n",
       "    .dataframe tbody tr th {\n",
       "        vertical-align: top;\n",
       "    }\n",
       "\n",
       "    .dataframe thead th {\n",
       "        text-align: right;\n",
       "    }\n",
       "</style>\n",
       "<table border=\"1\" class=\"dataframe\">\n",
       "  <thead>\n",
       "    <tr style=\"text-align: right;\">\n",
       "      <th></th>\n",
       "      <th>id</th>\n",
       "      <th>gender</th>\n",
       "      <th>age</th>\n",
       "      <th>ATP2B1</th>\n",
       "      <th>heart_disease</th>\n",
       "      <th>ever_married</th>\n",
       "      <th>work_type</th>\n",
       "      <th>Residence_type</th>\n",
       "      <th>avg_glucose_level</th>\n",
       "      <th>bmi</th>\n",
       "      <th>smoking_status</th>\n",
       "      <th>stroke</th>\n",
       "    </tr>\n",
       "  </thead>\n",
       "  <tbody>\n",
       "    <tr>\n",
       "      <th>0</th>\n",
       "      <td>9046</td>\n",
       "      <td>Male</td>\n",
       "      <td>67.0</td>\n",
       "      <td>0</td>\n",
       "      <td>1</td>\n",
       "      <td>Yes</td>\n",
       "      <td>Private</td>\n",
       "      <td>Urban</td>\n",
       "      <td>228.69</td>\n",
       "      <td>36.6</td>\n",
       "      <td>formerly smoked</td>\n",
       "      <td>1</td>\n",
       "    </tr>\n",
       "    <tr>\n",
       "      <th>1</th>\n",
       "      <td>51676</td>\n",
       "      <td>Female</td>\n",
       "      <td>61.0</td>\n",
       "      <td>0</td>\n",
       "      <td>0</td>\n",
       "      <td>Yes</td>\n",
       "      <td>Self-employed</td>\n",
       "      <td>Rural</td>\n",
       "      <td>202.21</td>\n",
       "      <td>NaN</td>\n",
       "      <td>never smoked</td>\n",
       "      <td>1</td>\n",
       "    </tr>\n",
       "    <tr>\n",
       "      <th>2</th>\n",
       "      <td>31112</td>\n",
       "      <td>Male</td>\n",
       "      <td>80.0</td>\n",
       "      <td>0</td>\n",
       "      <td>1</td>\n",
       "      <td>Yes</td>\n",
       "      <td>Private</td>\n",
       "      <td>Rural</td>\n",
       "      <td>105.92</td>\n",
       "      <td>32.5</td>\n",
       "      <td>never smoked</td>\n",
       "      <td>1</td>\n",
       "    </tr>\n",
       "    <tr>\n",
       "      <th>3</th>\n",
       "      <td>60182</td>\n",
       "      <td>Female</td>\n",
       "      <td>49.0</td>\n",
       "      <td>0</td>\n",
       "      <td>0</td>\n",
       "      <td>Yes</td>\n",
       "      <td>Private</td>\n",
       "      <td>Urban</td>\n",
       "      <td>171.23</td>\n",
       "      <td>34.4</td>\n",
       "      <td>smokes</td>\n",
       "      <td>1</td>\n",
       "    </tr>\n",
       "    <tr>\n",
       "      <th>4</th>\n",
       "      <td>1665</td>\n",
       "      <td>Female</td>\n",
       "      <td>79.0</td>\n",
       "      <td>1</td>\n",
       "      <td>0</td>\n",
       "      <td>Yes</td>\n",
       "      <td>Self-employed</td>\n",
       "      <td>Rural</td>\n",
       "      <td>174.12</td>\n",
       "      <td>24.0</td>\n",
       "      <td>never smoked</td>\n",
       "      <td>1</td>\n",
       "    </tr>\n",
       "    <tr>\n",
       "      <th>...</th>\n",
       "      <td>...</td>\n",
       "      <td>...</td>\n",
       "      <td>...</td>\n",
       "      <td>...</td>\n",
       "      <td>...</td>\n",
       "      <td>...</td>\n",
       "      <td>...</td>\n",
       "      <td>...</td>\n",
       "      <td>...</td>\n",
       "      <td>...</td>\n",
       "      <td>...</td>\n",
       "      <td>...</td>\n",
       "    </tr>\n",
       "    <tr>\n",
       "      <th>5105</th>\n",
       "      <td>18234</td>\n",
       "      <td>Female</td>\n",
       "      <td>80.0</td>\n",
       "      <td>1</td>\n",
       "      <td>0</td>\n",
       "      <td>Yes</td>\n",
       "      <td>Private</td>\n",
       "      <td>Urban</td>\n",
       "      <td>83.75</td>\n",
       "      <td>NaN</td>\n",
       "      <td>never smoked</td>\n",
       "      <td>0</td>\n",
       "    </tr>\n",
       "    <tr>\n",
       "      <th>5106</th>\n",
       "      <td>44873</td>\n",
       "      <td>Female</td>\n",
       "      <td>81.0</td>\n",
       "      <td>0</td>\n",
       "      <td>0</td>\n",
       "      <td>Yes</td>\n",
       "      <td>Self-employed</td>\n",
       "      <td>Urban</td>\n",
       "      <td>125.20</td>\n",
       "      <td>40.0</td>\n",
       "      <td>never smoked</td>\n",
       "      <td>0</td>\n",
       "    </tr>\n",
       "    <tr>\n",
       "      <th>5107</th>\n",
       "      <td>19723</td>\n",
       "      <td>Female</td>\n",
       "      <td>35.0</td>\n",
       "      <td>0</td>\n",
       "      <td>0</td>\n",
       "      <td>Yes</td>\n",
       "      <td>Self-employed</td>\n",
       "      <td>Rural</td>\n",
       "      <td>82.99</td>\n",
       "      <td>30.6</td>\n",
       "      <td>never smoked</td>\n",
       "      <td>0</td>\n",
       "    </tr>\n",
       "    <tr>\n",
       "      <th>5108</th>\n",
       "      <td>37544</td>\n",
       "      <td>Male</td>\n",
       "      <td>51.0</td>\n",
       "      <td>0</td>\n",
       "      <td>0</td>\n",
       "      <td>Yes</td>\n",
       "      <td>Private</td>\n",
       "      <td>Rural</td>\n",
       "      <td>166.29</td>\n",
       "      <td>25.6</td>\n",
       "      <td>formerly smoked</td>\n",
       "      <td>0</td>\n",
       "    </tr>\n",
       "    <tr>\n",
       "      <th>5109</th>\n",
       "      <td>44679</td>\n",
       "      <td>Female</td>\n",
       "      <td>44.0</td>\n",
       "      <td>0</td>\n",
       "      <td>0</td>\n",
       "      <td>Yes</td>\n",
       "      <td>Govt_job</td>\n",
       "      <td>Urban</td>\n",
       "      <td>85.28</td>\n",
       "      <td>26.2</td>\n",
       "      <td>Unknown</td>\n",
       "      <td>0</td>\n",
       "    </tr>\n",
       "  </tbody>\n",
       "</table>\n",
       "<p>5110 rows × 12 columns</p>\n",
       "</div>"
      ],
      "text/plain": [
       "         id  gender   age  ATP2B1  heart_disease ever_married      work_type  \\\n",
       "0      9046    Male  67.0       0              1          Yes        Private   \n",
       "1     51676  Female  61.0       0              0          Yes  Self-employed   \n",
       "2     31112    Male  80.0       0              1          Yes        Private   \n",
       "3     60182  Female  49.0       0              0          Yes        Private   \n",
       "4      1665  Female  79.0       1              0          Yes  Self-employed   \n",
       "...     ...     ...   ...     ...            ...          ...            ...   \n",
       "5105  18234  Female  80.0       1              0          Yes        Private   \n",
       "5106  44873  Female  81.0       0              0          Yes  Self-employed   \n",
       "5107  19723  Female  35.0       0              0          Yes  Self-employed   \n",
       "5108  37544    Male  51.0       0              0          Yes        Private   \n",
       "5109  44679  Female  44.0       0              0          Yes       Govt_job   \n",
       "\n",
       "     Residence_type  avg_glucose_level   bmi   smoking_status  stroke  \n",
       "0             Urban             228.69  36.6  formerly smoked       1  \n",
       "1             Rural             202.21   NaN     never smoked       1  \n",
       "2             Rural             105.92  32.5     never smoked       1  \n",
       "3             Urban             171.23  34.4           smokes       1  \n",
       "4             Rural             174.12  24.0     never smoked       1  \n",
       "...             ...                ...   ...              ...     ...  \n",
       "5105          Urban              83.75   NaN     never smoked       0  \n",
       "5106          Urban             125.20  40.0     never smoked       0  \n",
       "5107          Rural              82.99  30.6     never smoked       0  \n",
       "5108          Rural             166.29  25.6  formerly smoked       0  \n",
       "5109          Urban              85.28  26.2          Unknown       0  \n",
       "\n",
       "[5110 rows x 12 columns]"
      ]
     },
     "execution_count": 9,
     "metadata": {},
     "output_type": "execute_result"
    }
   ],
   "source": [
    "data.rename(columns={\"hypertension\": \"ATP2B1\"})"
   ]
  },
  {
   "cell_type": "code",
   "execution_count": 10,
   "id": "fbce0115",
   "metadata": {
    "execution": {
     "iopub.execute_input": "2023-09-04T18:20:20.008734Z",
     "iopub.status.busy": "2023-09-04T18:20:20.008179Z",
     "iopub.status.idle": "2023-09-04T18:20:20.024140Z",
     "shell.execute_reply": "2023-09-04T18:20:20.022969Z"
    },
    "papermill": {
     "duration": 0.02782,
     "end_time": "2023-09-04T18:20:20.026567",
     "exception": false,
     "start_time": "2023-09-04T18:20:19.998747",
     "status": "completed"
    },
    "tags": []
   },
   "outputs": [
    {
     "data": {
      "text/plain": [
       "-0.00014143234295804774"
      ]
     },
     "execution_count": 10,
     "metadata": {},
     "output_type": "execute_result"
    }
   ],
   "source": [
    "from sklearn.dummy import DummyRegressor #Regressor that makes predictions using simple rules.\n",
    "\n",
    "baseline_model = DummyRegressor(strategy=\"mean\") # Baseline\n",
    "baseline_model.fit(X_train, y_train) # Calculate value for stratgy\n",
    "baseline_model.score(X_test, y_test) # Score model based on consistently predicting the strategy"
   ]
  },
  {
   "cell_type": "code",
   "execution_count": null,
   "id": "a3ad81b2",
   "metadata": {
    "papermill": {
     "duration": 0.007971,
     "end_time": "2023-09-04T18:20:20.043156",
     "exception": false,
     "start_time": "2023-09-04T18:20:20.035185",
     "status": "completed"
    },
    "tags": []
   },
   "outputs": [],
   "source": []
  }
 ],
 "kernelspec": {
  "display_name": "Python 3",
  "language": "python",
  "name": "python3"
 },
 "language_info": {
  "codemirror_mode": {
   "name": "ipython",
   "version": 3
  },
  "file_extension": ".py",
  "mimetype": "text/x-python",
  "name": "python",
  "nbconvert_exporter": "python",
  "pygments_lexer": "ipython3",
  "version": "3.6.4"
 },
 "metadata": {
  "kernelspec": {
   "display_name": "Python 3",
   "language": "python",
   "name": "python3"
  },
  "language_info": {
   "codemirror_mode": {
    "name": "ipython",
    "version": 3
   },
   "file_extension": ".py",
   "mimetype": "text/x-python",
   "name": "python",
   "nbconvert_exporter": "python",
   "pygments_lexer": "ipython3",
   "version": "3.10.12"
  },
  "papermill": {
   "default_parameters": {},
   "duration": 6.236374,
   "end_time": "2023-09-04T18:20:20.572491",
   "environment_variables": {},
   "exception": null,
   "input_path": "__notebook__.ipynb",
   "output_path": "__notebook__.ipynb",
   "parameters": {},
   "start_time": "2023-09-04T18:20:14.336117",
   "version": "2.4.0"
  }
 },
 "nbformat": 4,
 "nbformat_minor": 5
}
