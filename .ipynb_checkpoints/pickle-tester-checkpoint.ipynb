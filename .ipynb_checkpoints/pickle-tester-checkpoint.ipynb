{
 "cells": [
  {
   "cell_type": "code",
   "execution_count": 2,
   "id": "977b1f96",
   "metadata": {},
   "outputs": [],
   "source": [
    "import pandas as pd"
   ]
  },
  {
   "cell_type": "code",
   "execution_count": 3,
   "id": "2dc67ca4",
   "metadata": {},
   "outputs": [],
   "source": [
    "d = {'id':[1],'gender': ['Female'], 'age': [75], 'hypertension': [1], 'heart_disease':[1], 'ever_married': ['Yes'], 'work_type':['children'],'Residence_type':['Urban'],'avg_glucose_level':[240.1],'bmi':[30.3],'smoking_status':['smokes']}\n",
    "\n",
    "\n"
   ]
  },
  {
   "cell_type": "code",
   "execution_count": 4,
   "id": "dde258b8",
   "metadata": {},
   "outputs": [],
   "source": [
    "new_data = pd.DataFrame(data=d)"
   ]
  },
  {
   "cell_type": "code",
   "execution_count": 5,
   "id": "f5d29bf3",
   "metadata": {},
   "outputs": [
    {
     "data": {
      "text/plain": [
       "array([0])"
      ]
     },
     "execution_count": 5,
     "metadata": {},
     "output_type": "execute_result"
    }
   ],
   "source": [
    "import pickle\n",
    "\n",
    "pipeline = pickle.load(open(\"/Users/jmadu1/code/joannesmadu/chance-of-stroke/pipeline.pkl\", \"rb\"))\n",
    "\n",
    "pipeline\n",
    "\n",
    "#then...\n",
    "\n",
    "predicted_class = pipeline.predict(new_data.loc[:,'gender':'smoking_status'])\n",
    "predicted_class"
   ]
  },
  {
   "cell_type": "code",
   "execution_count": null,
   "id": "762f9195",
   "metadata": {},
   "outputs": [],
   "source": []
  }
 ],
 "metadata": {
  "kernelspec": {
   "display_name": "Python 3 (ipykernel)",
   "language": "python",
   "name": "python3"
  },
  "language_info": {
   "codemirror_mode": {
    "name": "ipython",
    "version": 3
   },
   "file_extension": ".py",
   "mimetype": "text/x-python",
   "name": "python",
   "nbconvert_exporter": "python",
   "pygments_lexer": "ipython3",
   "version": "3.10.6"
  },
  "toc": {
   "base_numbering": 1,
   "nav_menu": {},
   "number_sections": true,
   "sideBar": true,
   "skip_h1_title": false,
   "title_cell": "Table of Contents",
   "title_sidebar": "Contents",
   "toc_cell": false,
   "toc_position": {},
   "toc_section_display": true,
   "toc_window_display": false
  }
 },
 "nbformat": 4,
 "nbformat_minor": 5
}
